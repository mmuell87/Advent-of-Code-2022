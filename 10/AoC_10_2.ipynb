{
 "cells": [
  {
   "cell_type": "code",
   "execution_count": 20,
   "id": "45e2ceda",
   "metadata": {},
   "outputs": [
    {
     "name": "stdout",
     "output_type": "stream",
     "text": [
      "\n",
      "\n",
      "####.###..#..#.###..#..#.####..##..#..#.\n",
      "\n",
      "#....#..#.#..#.#..#.#..#....#.#..#.#..#.\n",
      "\n",
      "###..###..#..#.#..#.####...#..#....####.\n",
      "\n",
      "#....#..#.#..#.###..#..#..#...#....#..#.\n",
      "\n",
      "#....#..#.#..#.#.#..#..#.#....#..#.#..#.\n",
      "\n",
      "#....###...##..#..#.#..#.####..##..#..#."
     ]
    }
   ],
   "source": [
    "cycle,x = 0,1\n",
    "steps = [20,60,100,140,180,220]\n",
    "solved_values = []\n",
    "\n",
    "def increase():\n",
    "    global cycle,solved_values\n",
    "    if abs(cycle-x)<=1 : solved_values.append(\"#\")\n",
    "    else: solved_values.append(\".\")\n",
    "    cycle += 1\n",
    "    if cycle == 40: cycle = 0    \n",
    "\n",
    "with open(\"input.txt\") as f:\n",
    "    line = \" \"\n",
    "    while not(line == \"\"):\n",
    "        line = f.readline().rstrip()\n",
    "        if line.rfind(\"addx\") > -1:\n",
    "            increase()\n",
    "            increase()\n",
    "            x += int(line[5:])\n",
    "        elif line.rfind(\"noop\") > -1: increase()\n",
    "x = 0\n",
    "for bit in solved_values:\n",
    "    if x % 40 == 0: print(\"\\n\")\n",
    "    print(bit,end=\"\")\n",
    "    x +=1"
   ]
  },
  {
   "cell_type": "code",
   "execution_count": null,
   "id": "4c664598",
   "metadata": {},
   "outputs": [],
   "source": []
  }
 ],
 "metadata": {
  "kernelspec": {
   "display_name": "Python 3 (ipykernel)",
   "language": "python",
   "name": "python3"
  },
  "language_info": {
   "codemirror_mode": {
    "name": "ipython",
    "version": 3
   },
   "file_extension": ".py",
   "mimetype": "text/x-python",
   "name": "python",
   "nbconvert_exporter": "python",
   "pygments_lexer": "ipython3",
   "version": "3.9.13"
  }
 },
 "nbformat": 4,
 "nbformat_minor": 5
}
