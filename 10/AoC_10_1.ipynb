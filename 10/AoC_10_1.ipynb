{
 "cells": [
  {
   "cell_type": "code",
   "execution_count": 1,
   "id": "e5f13df1",
   "metadata": {},
   "outputs": [
    {
     "name": "stdout",
     "output_type": "stream",
     "text": [
      "20 16\n",
      "60 21\n",
      "100 17\n",
      "140 21\n",
      "180 16\n",
      "220 21\n",
      "13720\n"
     ]
    }
   ],
   "source": [
    "cycle,x = 0,1\n",
    "steps = [20,60,100,140,180,220]\n",
    "solved_values = []\n",
    "\n",
    "def increase():\n",
    "    global cycle\n",
    "    cycle += 1\n",
    "    if cycle in steps:\n",
    "        print(str(cycle) + \" \" + str(x))\n",
    "        solved_values.append(x)\n",
    "\n",
    "with open(\"input.txt\") as f:\n",
    "    line = \" \"\n",
    "    while not(line == \"\"):\n",
    "        line = f.readline().rstrip()\n",
    "        if line.rfind(\"addx\") > -1:\n",
    "            increase()\n",
    "            increase()\n",
    "            x += int(line[5:])\n",
    "        elif line.rfind(\"noop\") > -1: increase()\n",
    "x = 0\n",
    "for cycle in range(6): x += steps[cycle]*solved_values[cycle]\n",
    "print(x)"
   ]
  },
  {
   "cell_type": "code",
   "execution_count": null,
   "id": "8a60d502",
   "metadata": {},
   "outputs": [],
   "source": []
  }
 ],
 "metadata": {
  "kernelspec": {
   "display_name": "Python 3 (ipykernel)",
   "language": "python",
   "name": "python3"
  },
  "language_info": {
   "codemirror_mode": {
    "name": "ipython",
    "version": 3
   },
   "file_extension": ".py",
   "mimetype": "text/x-python",
   "name": "python",
   "nbconvert_exporter": "python",
   "pygments_lexer": "ipython3",
   "version": "3.9.13"
  }
 },
 "nbformat": 4,
 "nbformat_minor": 5
}
