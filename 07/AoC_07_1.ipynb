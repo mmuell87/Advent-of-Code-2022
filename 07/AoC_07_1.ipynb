{
 "cells": [
  {
   "cell_type": "code",
   "execution_count": 111,
   "id": "d0a20845",
   "metadata": {},
   "outputs": [
    {
     "name": "stdout",
     "output_type": "stream",
     "text": [
      "ende1\n",
      "ende2\n",
      "1243729\n"
     ]
    }
   ],
   "source": [
    "def findsize(pfad):\n",
    "    size=0\n",
    "    for i in range(allpaths.index(pfad),len(allpaths),1):\n",
    "        if not(pfad in allpaths[i]): break\n",
    "        size+=allsizes[i]\n",
    "    return size\n",
    "        \n",
    "def pfadhoch(pfad):\n",
    "    pfadreturn=str(pfad.rsplit('/',1)[0])\n",
    "    return str(pfad.rsplit('/',1)[0])\n",
    "    \n",
    "\n",
    "path=''\n",
    "allpaths=['/']\n",
    "allsizes=[]\n",
    "size=0\n",
    "\n",
    "with open('input.txt') as f:\n",
    "    line=f.readline()[:-1]\n",
    "    while True:\n",
    "        line=f.readline()[:-1]\n",
    "        if line=='': break\n",
    "        elif line[0]=='$':\n",
    "            if line[2:4]=='cd':\n",
    "                if line[:7]=='$ cd ..':\n",
    "                    path=pfadhoch(path)\n",
    "                    size=0\n",
    "                else:\n",
    "                    path=path+'/'+line[5:]\n",
    "                    allpaths.append(path)\n",
    "\n",
    "with open('input.txt') as f:\n",
    "    line=f.readline()[:-1]\n",
    "    line=f.readline()[:-1]\n",
    "    while True:\n",
    "        line=f.readline()[:-1]\n",
    "        if line=='':\n",
    "            allsizes.append(size)\n",
    "            size=0\n",
    "            break\n",
    "        elif line[0:4]=='$ ls':\n",
    "            allsizes.append(size)\n",
    "            size=0\n",
    "        elif line.rsplit(' ')[0].isnumeric():\n",
    "            size+=int(line.rsplit(' ')[0])\n",
    "#            print(size)\n",
    "#for element in allsizes: print(str(element) + '   '+allpaths[allsizes.index(element)])\n",
    "#print(len(allpaths))\n",
    "#print(len(allsizes))\n",
    "\n",
    "size=0\n",
    "#print(findsize(\"/pjsd/dgwpl/ljzrwpv\"))\n",
    "for element in allpaths:\n",
    "    if findsize(element)<=100000:\n",
    "        size+=findsize(element)\n",
    "#        print(element+'   '+str(size))\n",
    "print(size)"
   ]
  },
  {
   "cell_type": "code",
   "execution_count": null,
   "id": "1c99fb45",
   "metadata": {},
   "outputs": [],
   "source": []
  },
  {
   "cell_type": "code",
   "execution_count": null,
   "id": "cd7b02d6",
   "metadata": {},
   "outputs": [],
   "source": []
  }
 ],
 "metadata": {
  "kernelspec": {
   "display_name": "Python 3 (ipykernel)",
   "language": "python",
   "name": "python3"
  },
  "language_info": {
   "codemirror_mode": {
    "name": "ipython",
    "version": 3
   },
   "file_extension": ".py",
   "mimetype": "text/x-python",
   "name": "python",
   "nbconvert_exporter": "python",
   "pygments_lexer": "ipython3",
   "version": "3.9.13"
  }
 },
 "nbformat": 4,
 "nbformat_minor": 5
}
