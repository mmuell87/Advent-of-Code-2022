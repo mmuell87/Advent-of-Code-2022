{
 "cells": [
  {
   "cell_type": "code",
   "execution_count": 2,
   "id": "5a7441f7",
   "metadata": {},
   "outputs": [
    {
     "name": "stdout",
     "output_type": "stream",
     "text": [
      "2265\n",
      "ende\n"
     ]
    }
   ],
   "source": [
    "def check(word):\n",
    "    bit=''\n",
    "    for bit in word:\n",
    "        if word.count(bit)>1:\n",
    "            #print(bit)\n",
    "            return True\n",
    "            break\n",
    "    return False\n",
    "    \n",
    "\n",
    "counter=14\n",
    "with open('input.txt') as f:\n",
    "    bit=f.read(14)\n",
    "    while True:\n",
    "        if not(check(bit)): \n",
    "            print(counter)\n",
    "            break\n",
    "        bit = bit[1:]+f.read(1)\n",
    "        counter +=1\n",
    "#        if counter>10: break\n",
    "print('ende')"
   ]
  },
  {
   "cell_type": "code",
   "execution_count": null,
   "id": "f8a60d15",
   "metadata": {},
   "outputs": [],
   "source": []
  }
 ],
 "metadata": {
  "kernelspec": {
   "display_name": "Python 3 (ipykernel)",
   "language": "python",
   "name": "python3"
  },
  "language_info": {
   "codemirror_mode": {
    "name": "ipython",
    "version": 3
   },
   "file_extension": ".py",
   "mimetype": "text/x-python",
   "name": "python",
   "nbconvert_exporter": "python",
   "pygments_lexer": "ipython3",
   "version": "3.9.13"
  }
 },
 "nbformat": 4,
 "nbformat_minor": 5
}
