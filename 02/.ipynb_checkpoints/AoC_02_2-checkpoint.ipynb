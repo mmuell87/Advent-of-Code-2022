{
 "cells": [
  {
   "cell_type": "code",
   "execution_count": 2,
   "id": "364b3494",
   "metadata": {},
   "outputs": [
    {
     "name": "stdout",
     "output_type": "stream",
     "text": [
      "14979\n"
     ]
    }
   ],
   "source": [
    "pro, con = '',''\n",
    "score = 0\n",
    "def evaluate(con, pro):\n",
    "    value = 0\n",
    "    if pro == 'X': #I lose\n",
    "        value += 0\n",
    "        if con == 'A': value += 3   #with scissors\n",
    "        elif con == 'B': value += 1 #with rock\n",
    "        elif con == 'C': value += 2 #with paper\n",
    "    if pro == 'Y': #I draw\n",
    "        value += 3\n",
    "        if con == 'A': value += 1   #with rock\n",
    "        elif con == 'B': value += 2 #with paper\n",
    "        elif con == 'C': value += 3 #with scissors\n",
    "    if pro == 'Z': #I win\n",
    "        value += 6\n",
    "        if con == 'A': value += 2   #with paper\n",
    "        elif con == 'B': value += 3 #with scissors\n",
    "        elif con == 'C': value += 1 #with rock\n",
    "    return value\n",
    "\n",
    "with open('input.txt') as f:\n",
    "    while True:\n",
    "        line = f.readline()\n",
    "        if line == '': break #terminate at end of file\n",
    "        else: score += evaluate(line[0], line[2]) #else increase score\n",
    "print(str(score))"
   ]
  },
  {
   "cell_type": "code",
   "execution_count": null,
   "id": "ce61749b",
   "metadata": {},
   "outputs": [],
   "source": []
  }
 ],
 "metadata": {
  "kernelspec": {
   "display_name": "Python 3 (ipykernel)",
   "language": "python",
   "name": "python3"
  },
  "language_info": {
   "codemirror_mode": {
    "name": "ipython",
    "version": 3
   },
   "file_extension": ".py",
   "mimetype": "text/x-python",
   "name": "python",
   "nbconvert_exporter": "python",
   "pygments_lexer": "ipython3",
   "version": "3.9.13"
  }
 },
 "nbformat": 4,
 "nbformat_minor": 5
}
