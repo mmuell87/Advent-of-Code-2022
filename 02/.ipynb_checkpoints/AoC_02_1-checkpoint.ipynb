{
 "cells": [
  {
   "cell_type": "code",
   "execution_count": 38,
   "id": "f92bbafb",
   "metadata": {},
   "outputs": [
    {
     "name": "stdout",
     "output_type": "stream",
     "text": [
      "12794\n"
     ]
    }
   ],
   "source": [
    "pro, con = '',''\n",
    "score = 0\n",
    "def evaluate(con, pro):\n",
    "    value = 0\n",
    "    if pro == 'X':\n",
    "        if con == 'A': value += 4\n",
    "        elif con == 'B': value += 1\n",
    "        elif con == 'C': value += 7\n",
    "    if pro == 'Y':\n",
    "        if con == 'A': value += 8\n",
    "        elif con == 'B': value += 5\n",
    "        elif con == 'C': value += 2\n",
    "    if pro == 'Z':\n",
    "        if con == 'A': value += 3\n",
    "        elif con == 'B': value += 9\n",
    "        elif con == 'C': value += 6\n",
    "    return value\n",
    "\n",
    "with open('input.txt') as f:\n",
    "    while True:\n",
    "        line = f.readline()\n",
    "        if line == '': break\n",
    "        else:\n",
    "            #print(line[0:3] + ' : ' + str(evaluate(line[0],line[2])))\n",
    "            score += evaluate(line[0], line[2])\n",
    "print(str(score)) #made a copypasta error and restored to function only"
   ]
  },
  {
   "cell_type": "code",
   "execution_count": null,
   "id": "4a1f1a7d",
   "metadata": {},
   "outputs": [],
   "source": []
  },
  {
   "cell_type": "code",
   "execution_count": 2,
   "id": "6d557dc7",
   "metadata": {},
   "outputs": [
    {
     "ename": "NameError",
     "evalue": "name 'evaluate' is not defined",
     "output_type": "error",
     "traceback": [
      "\u001b[1;31m---------------------------------------------------------------------------\u001b[0m",
      "\u001b[1;31mNameError\u001b[0m                                 Traceback (most recent call last)",
      "\u001b[1;32m~\\AppData\\Local\\Temp\\ipykernel_1000\\1045739416.py\u001b[0m in \u001b[0;36m<module>\u001b[1;34m\u001b[0m\n\u001b[1;32m----> 1\u001b[1;33m \u001b[0mevaluate\u001b[0m\u001b[1;33m(\u001b[0m\u001b[0mA\u001b[0m\u001b[1;33m,\u001b[0m\u001b[0mX\u001b[0m\u001b[1;33m)\u001b[0m\u001b[1;33m\u001b[0m\u001b[1;33m\u001b[0m\u001b[0m\n\u001b[0m",
      "\u001b[1;31mNameError\u001b[0m: name 'evaluate' is not defined"
     ]
    }
   ],
   "source": [
    "evaluate(A,X)"
   ]
  },
  {
   "cell_type": "code",
   "execution_count": null,
   "id": "88d63579",
   "metadata": {},
   "outputs": [],
   "source": []
  }
 ],
 "metadata": {
  "kernelspec": {
   "display_name": "Python 3 (ipykernel)",
   "language": "python",
   "name": "python3"
  },
  "language_info": {
   "codemirror_mode": {
    "name": "ipython",
    "version": 3
   },
   "file_extension": ".py",
   "mimetype": "text/x-python",
   "name": "python",
   "nbconvert_exporter": "python",
   "pygments_lexer": "ipython3",
   "version": "3.9.13"
  }
 },
 "nbformat": 4,
 "nbformat_minor": 5
}
