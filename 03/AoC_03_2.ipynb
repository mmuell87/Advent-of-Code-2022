{
 "cells": [
  {
   "cell_type": "code",
   "execution_count": 142,
   "id": "9f03c7fa",
   "metadata": {},
   "outputs": [
    {
     "name": "stdout",
     "output_type": "stream",
     "text": [
      "2548\n"
     ]
    }
   ],
   "source": [
    "def getvalue(a):\n",
    "    abc = '-abcdefghijklmnopqrstuvwxyzABCDEFGHIJKLMNOPQRSTUVWXYZ'\n",
    "    return(abc.find(a))\n",
    "\n",
    "def common(liste):\n",
    "    while len(liste[-1])>0:\n",
    "        x=0\n",
    "#        print(liste[-1]+\"  \"+liste[-1][0])\n",
    "        y=0\n",
    "        for x in range(0,len(liste)-1,1):\n",
    "            if (liste[-1][0] in liste[x]):\n",
    "                y+=1\n",
    "#                print(liste[-1][0] + \" ist       Teil von Liste \"+str(x))\n",
    "#            else: print(liste[-1][0] + \" ist NICHT Teil von Liste \"+str(x))\n",
    "        if not(len(liste)-1 == y): liste[-1]=liste[-1].replace(liste[-1][0],\"\")\n",
    "        else: return(liste[-1][0])\n",
    "\n",
    "groupsize,score=3,0\n",
    "with open('input.txt') as f:\n",
    "    while True:\n",
    "        line = []\n",
    "        for x in range(0,groupsize,1): \n",
    "            line.append(f.readline())\n",
    "            line[x] = line[x].rstrip(\"\\n\")\n",
    "            if line[-1]=='': break\n",
    "        if line[-1]=='':break\n",
    "#        print(common(line))\n",
    "        score += getvalue(common(line))\n",
    "#        print(str(loopnr))\n",
    "print(str(score))"
   ]
  },
  {
   "cell_type": "code",
   "execution_count": null,
   "id": "3bf8dd99",
   "metadata": {},
   "outputs": [],
   "source": []
  },
  {
   "cell_type": "code",
   "execution_count": null,
   "id": "0edee0eb",
   "metadata": {},
   "outputs": [],
   "source": []
  }
 ],
 "metadata": {
  "kernelspec": {
   "display_name": "Python 3 (ipykernel)",
   "language": "python",
   "name": "python3"
  },
  "language_info": {
   "codemirror_mode": {
    "name": "ipython",
    "version": 3
   },
   "file_extension": ".py",
   "mimetype": "text/x-python",
   "name": "python",
   "nbconvert_exporter": "python",
   "pygments_lexer": "ipython3",
   "version": "3.9.13"
  }
 },
 "nbformat": 4,
 "nbformat_minor": 5
}
