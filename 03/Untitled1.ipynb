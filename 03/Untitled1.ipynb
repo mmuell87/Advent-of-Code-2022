{
 "cells": [
  {
   "cell_type": "code",
   "execution_count": 7,
   "id": "920efb3f",
   "metadata": {},
   "outputs": [
    {
     "name": "stdout",
     "output_type": "stream",
     "text": [
      "None\n",
      "None\n",
      "None\n",
      "0\n"
     ]
    }
   ],
   "source": [
    "def getvalue(a):\n",
    "    abc = '-abcdefghijklmnopqrstuvwxyzABCDEFGHIJKLMNOPQRSTUVWXYZ'\n",
    "    return(abc.find(a))\n",
    "\n",
    "groupsize,score = 3,0\n",
    "line = []\n",
    "with open('input.txt') as f:\n",
    "#    while True:\n",
    "        x=0\n",
    "        letter=''\n",
    "        for x in range(0,groupsize,1):\n",
    "            line[x]=line.append(f.readline())\n",
    "            print(line[x])\n",
    "#        for letter in \n",
    "        \n",
    "print(str(score))"
   ]
  },
  {
   "cell_type": "code",
   "execution_count": null,
   "id": "4799b79f",
   "metadata": {},
   "outputs": [],
   "source": []
  }
 ],
 "metadata": {
  "kernelspec": {
   "display_name": "Python 3 (ipykernel)",
   "language": "python",
   "name": "python3"
  },
  "language_info": {
   "codemirror_mode": {
    "name": "ipython",
    "version": 3
   },
   "file_extension": ".py",
   "mimetype": "text/x-python",
   "name": "python",
   "nbconvert_exporter": "python",
   "pygments_lexer": "ipython3",
   "version": "3.9.13"
  }
 },
 "nbformat": 4,
 "nbformat_minor": 5
}
