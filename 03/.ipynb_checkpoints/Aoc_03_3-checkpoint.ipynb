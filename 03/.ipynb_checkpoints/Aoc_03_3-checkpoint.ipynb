{
 "cells": [
  {
   "cell_type": "code",
   "execution_count": 64,
   "id": "d77782d2",
   "metadata": {},
   "outputs": [
    {
     "name": "stdout",
     "output_type": "stream",
     "text": [
      "Ergebnis: 2548\n"
     ]
    }
   ],
   "source": [
    "def getvalue(a):\n",
    "    abc = '-abcdefghijklmnopqrstuvwxyzABCDEFGHIJKLMNOPQRSTUVWXYZ'\n",
    "    return(abc.find(a))\n",
    "\n",
    "groupsize,score,y,run = 3,0,0,0\n",
    "with open('input.txt') as f:\n",
    "    while True:\n",
    "        run += 1\n",
    "        x=0\n",
    "        letter=''\n",
    "        line = []\n",
    "        for x in range(0,groupsize,1):\n",
    "            line.append(f.readline()[0:-1])\n",
    "            if line[x]==\"\": break\n",
    "        for letter in line[-1]:\n",
    "            if line[0]==\"\": break\n",
    "            y=0\n",
    "            for x in range(0,groupsize-1,1):\n",
    "                if letter in line[x]: y += 1\n",
    "            if y == groupsize-1:  \n",
    "                score += getvalue(letter)\n",
    "#                print(str(run) + letter)\n",
    "                break\n",
    "        if line[0]==\"\": break  \n",
    "        \n",
    "print(\"Ergebnis: \"+str(score))"
   ]
  },
  {
   "cell_type": "code",
   "execution_count": null,
   "id": "a6ce15f7",
   "metadata": {},
   "outputs": [],
   "source": []
  },
  {
   "cell_type": "code",
   "execution_count": null,
   "id": "ba3738ac",
   "metadata": {},
   "outputs": [],
   "source": []
  },
  {
   "cell_type": "code",
   "execution_count": null,
   "id": "74bb03ee",
   "metadata": {},
   "outputs": [],
   "source": []
  }
 ],
 "metadata": {
  "kernelspec": {
   "display_name": "Python 3 (ipykernel)",
   "language": "python",
   "name": "python3"
  },
  "language_info": {
   "codemirror_mode": {
    "name": "ipython",
    "version": 3
   },
   "file_extension": ".py",
   "mimetype": "text/x-python",
   "name": "python",
   "nbconvert_exporter": "python",
   "pygments_lexer": "ipython3",
   "version": "3.9.13"
  }
 },
 "nbformat": 4,
 "nbformat_minor": 5
}
