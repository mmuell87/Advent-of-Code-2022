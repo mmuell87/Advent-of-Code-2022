{
 "cells": [
  {
   "cell_type": "code",
   "execution_count": 55,
   "id": "0bf82b77",
   "metadata": {},
   "outputs": [
    {
     "name": "stdout",
     "output_type": "stream",
     "text": [
      "808\n"
     ]
    }
   ],
   "source": [
    "score=0\n",
    "run=0\n",
    "with open(\"input.txt\") as f:\n",
    "    while True:\n",
    "        run += 1\n",
    "#        print(run)\n",
    "        line=[0,0,0,0]\n",
    "        zeile=f.readline()\n",
    "        if zeile=='':break\n",
    "        zeile=zeile.replace(',','-',1)\n",
    "        i=0\n",
    "        for i in range(0,3,1):\n",
    "            line[i]=int(zeile[0:zeile.index('-')])\n",
    "            zeile=zeile.replace(str(line[i])+'-','',1)\n",
    "        line[3]=int(zeile)\n",
    "        if line[0]<line[3] and line[1]<line[2]: \n",
    "#            print(\"lol1\")\n",
    "            continue\n",
    "        elif line[0]>line[3] and line[1]>line[2]: \n",
    "#            print(\"lol2\")\n",
    "            continue\n",
    "        else: score += 1\n",
    "#        print(str(run)+\" \"+str(score))\n",
    "print(str(score))"
   ]
  },
  {
   "cell_type": "code",
   "execution_count": null,
   "id": "114123a7",
   "metadata": {},
   "outputs": [],
   "source": []
  }
 ],
 "metadata": {
  "kernelspec": {
   "display_name": "Python 3 (ipykernel)",
   "language": "python",
   "name": "python3"
  },
  "language_info": {
   "codemirror_mode": {
    "name": "ipython",
    "version": 3
   },
   "file_extension": ".py",
   "mimetype": "text/x-python",
   "name": "python",
   "nbconvert_exporter": "python",
   "pygments_lexer": "ipython3",
   "version": "3.9.13"
  }
 },
 "nbformat": 4,
 "nbformat_minor": 5
}
