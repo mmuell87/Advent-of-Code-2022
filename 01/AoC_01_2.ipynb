{
 "cells": [
  {
   "cell_type": "code",
   "execution_count": 6,
   "id": "df4c3acf",
   "metadata": {},
   "outputs": [
    {
     "name": "stdout",
     "output_type": "stream",
     "text": [
      "Top 1: 68775\n",
      "Top 3: 202585\n"
     ]
    }
   ],
   "source": [
    "import numpy\n",
    "zwischensumme = 0\n",
    "i = 0\n",
    "rekord = [0,0,0]\n",
    "\n",
    "with open('input.txt') as f:\n",
    "    while True:\n",
    "        line = f.readline()\n",
    "        \n",
    "        if line == '\\n' or line == '':\n",
    "            i=0\n",
    "            for i in range(3):\n",
    "                if zwischensumme > rekord[i]:\n",
    "                    speicher = rekord[i]\n",
    "                    rekord[i] = zwischensumme\n",
    "                    zwischensumme = speicher\n",
    "            zwischensumme = 0\n",
    "            if line == '':\n",
    "                i = 0\n",
    "                for i in range(3):\n",
    "                    zwischensumme += rekord[i]\n",
    "                print(\"Top 1: \" + str(rekord[0]))\n",
    "                print(\"Top 3: \" + str(zwischensumme))\n",
    "                break\n",
    "        else: zwischensumme += int(line)\n",
    "            "
   ]
  },
  {
   "cell_type": "code",
   "execution_count": null,
   "id": "5c33a0fa",
   "metadata": {},
   "outputs": [],
   "source": []
  }
 ],
 "metadata": {
  "kernelspec": {
   "display_name": "Python 3 (ipykernel)",
   "language": "python",
   "name": "python3"
  },
  "language_info": {
   "codemirror_mode": {
    "name": "ipython",
    "version": 3
   },
   "file_extension": ".py",
   "mimetype": "text/x-python",
   "name": "python",
   "nbconvert_exporter": "python",
   "pygments_lexer": "ipython3",
   "version": "3.9.13"
  }
 },
 "nbformat": 4,
 "nbformat_minor": 5
}
