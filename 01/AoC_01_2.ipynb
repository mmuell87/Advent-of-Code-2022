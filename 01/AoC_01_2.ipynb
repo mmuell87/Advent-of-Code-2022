{
 "cells": [
  {
   "cell_type": "code",
   "execution_count": 25,
   "id": "df4c3acf",
   "metadata": {},
   "outputs": [
    {
     "name": "stdout",
     "output_type": "stream",
     "text": [
      "Top 1: 68775\n",
      "Top 3: 257269\n"
     ]
    }
   ],
   "source": [
    "zwischensumme = 0\n",
    "rekord = [0,0,0]\n",
    "\n",
    "with open('input.txt') as f:\n",
    "    while True:\n",
    "        line = f.readline()        \n",
    "        #if elf fully added up:\n",
    "        if line == '\\n' or line == '':\n",
    "            if line == '':#equals end of file\n",
    "                for i in range(0,3,1):#calculate top3-sum\n",
    "                    zwischensumme += rekord[i]\n",
    "                print(\"Top 1: \" + str(rekord[0]))\n",
    "                print(\"Top 3: \" + str(zwischensumme))\n",
    "                break #end of file, so break\n",
    "            for i in range(0,3,1):#compare values with records and exchange if bigger. smallest is lost\n",
    "                if zwischensumme > rekord[i]:\n",
    "                    speicher = rekord[i]\n",
    "                    rekord[i] = zwischensumme\n",
    "                    zwischensumme = speicher\n",
    "            zwischensumme = 0         \n",
    "        #else continue summing calories of elf    \n",
    "        else: zwischensumme += int(line)\n",
    "            "
   ]
  },
  {
   "cell_type": "code",
   "execution_count": null,
   "id": "5c33a0fa",
   "metadata": {},
   "outputs": [],
   "source": []
  },
  {
   "cell_type": "code",
   "execution_count": null,
   "id": "29588fc3",
   "metadata": {},
   "outputs": [],
   "source": []
  },
  {
   "cell_type": "code",
   "execution_count": null,
   "id": "0aed71f9",
   "metadata": {},
   "outputs": [],
   "source": []
  },
  {
   "cell_type": "code",
   "execution_count": null,
   "id": "731dc0f3",
   "metadata": {},
   "outputs": [],
   "source": []
  },
  {
   "cell_type": "code",
   "execution_count": null,
   "id": "a4957f7c",
   "metadata": {},
   "outputs": [],
   "source": []
  }
 ],
 "metadata": {
  "kernelspec": {
   "display_name": "Python 3 (ipykernel)",
   "language": "python",
   "name": "python3"
  },
  "language_info": {
   "codemirror_mode": {
    "name": "ipython",
    "version": 3
   },
   "file_extension": ".py",
   "mimetype": "text/x-python",
   "name": "python",
   "nbconvert_exporter": "python",
   "pygments_lexer": "ipython3",
   "version": "3.9.13"
  }
 },
 "nbformat": 4,
 "nbformat_minor": 5
}
