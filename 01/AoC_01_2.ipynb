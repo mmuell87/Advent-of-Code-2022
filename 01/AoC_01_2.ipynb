{
 "cells": [
  {
   "cell_type": "code",
   "execution_count": 50,
   "id": "85935fbd",
   "metadata": {},
   "outputs": [
    {
     "name": "stdout",
     "output_type": "stream",
     "text": [
      "Top 1: 68775\n",
      "Top 3: 257269\n"
     ]
    }
   ],
   "source": [
    "zwischensumme = 0\n",
    "n=3\n",
    "rekord = []\n",
    "for i in range(0,n,1): rekord.append(0)\n",
    "\n",
    "with open('input.txt') as f:\n",
    "    while True:\n",
    "        line = f.readline()        \n",
    "        #if elf fully added up:\n",
    "        if line == '\\n' or line == '':\n",
    "            if line == '':#equals end of file\n",
    "                for i in range(0,n,1):#calculate top3-sum\n",
    "                    zwischensumme += rekord[i]\n",
    "                print(\"Top 1: \" + str(rekord[0]))\n",
    "                print(\"Top \"+str(n)+\": \" + str(zwischensumme))\n",
    "                break #end of file, so break\n",
    "            for i in range(0,n,1):#compare values with records and exchange if bigger. smallest is lost\n",
    "                if zwischensumme > rekord[i]: zwischensumme, rekord[i] = rekord[i], zwischensumme\n",
    "            zwischensumme = 0         \n",
    "        #else continue summing calories of elf    \n",
    "        else: zwischensumme += int(line)\n",
    "            "
   ]
  },
  {
   "cell_type": "code",
   "execution_count": null,
   "id": "5c33a0fa",
   "metadata": {},
   "outputs": [],
   "source": []
  },
  {
   "cell_type": "code",
   "execution_count": null,
   "id": "21b663fc",
   "metadata": {},
   "outputs": [],
   "source": []
  },
  {
   "cell_type": "code",
   "execution_count": null,
   "id": "6c6daaf9",
   "metadata": {},
   "outputs": [],
   "source": []
  },
  {
   "cell_type": "code",
   "execution_count": null,
   "id": "04f6e126",
   "metadata": {},
   "outputs": [],
   "source": []
  },
  {
   "cell_type": "code",
   "execution_count": null,
   "id": "9cf86875",
   "metadata": {},
   "outputs": [],
   "source": []
  }
 ],
 "metadata": {
  "kernelspec": {
   "display_name": "Python 3 (ipykernel)",
   "language": "python",
   "name": "python3"
  },
  "language_info": {
   "codemirror_mode": {
    "name": "ipython",
    "version": 3
   },
   "file_extension": ".py",
   "mimetype": "text/x-python",
   "name": "python",
   "nbconvert_exporter": "python",
   "pygments_lexer": "ipython3",
   "version": "3.9.13"
  }
 },
 "nbformat": 4,
 "nbformat_minor": 5
}
