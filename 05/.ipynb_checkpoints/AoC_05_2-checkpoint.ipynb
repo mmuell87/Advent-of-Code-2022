{
 "cells": [
  {
   "cell_type": "code",
   "execution_count": 34,
   "id": "68e8a011",
   "metadata": {},
   "outputs": [
    {
     "name": "stdout",
     "output_type": "stream",
     "text": [
      "[['M', 'N'], ['D', 'B'], ['R', 'T'], ['V'], ['D', 'F', 'G', 'F', 'D', 'G', 'B', 'P', 'N', 'D', 'F', 'D', 'M', 'L', 'V', 'D', 'M', 'G', 'C', 'M', 'S', 'J', 'P', 'P', 'V', 'H', 'D', 'Q', 'G', 'J', 'N', 'G', 'T'], ['H', 'L', 'L', 'J'], ['N'], ['F'], ['L', 'B', 'V', 'V', 'F', 'Q', 'Z', 'S', 'H', 'J']]\n",
      "NBTVTJNFJ"
     ]
    }
   ],
   "source": [
    "debug=0\n",
    "\n",
    "def replace(liste,element,a):\n",
    "    liste.pop(a)\n",
    "    liste.insert(a,element)\n",
    "    return(liste)\n",
    "\n",
    "\n",
    "storage, buffer, storageready=[],[],[]\n",
    "zeile,spalte,i,j=0,0,0,0\n",
    "\n",
    "with open(\"input.txt\") as f:\n",
    "    while True:\n",
    "        line=f.readline()\n",
    "        if line=='\\n': break\n",
    "        if debug==1: print(line)\n",
    "        while True:\n",
    "            buffer.append(line[1])\n",
    "            if debug==1: print(\"Storage: \"+str(buffer))\n",
    "            if line[3]=='\\n': break\n",
    "            line=line[4:]\n",
    "            if debug==1: print(\"Line:    \" +line)\n",
    "            spalte += 1\n",
    "        if not(\"1\" in buffer): storage.append(buffer) #cut numbering of stacks\n",
    "        buffer=[]\n",
    "        zeile += 1\n",
    "#print(storage)\n",
    "\n",
    "for j in range(1,10):\n",
    "    buffer=[]\n",
    "    for i in range(7,-1,-1): buffer.append(storage[i][-j])\n",
    "    while buffer.count(' ')>0: buffer.remove(' ')\n",
    "    storageready.append(buffer)\n",
    "#    print(buffer)\n",
    "#print(storageready)\n",
    "storageready.reverse()\n",
    "#print(storageready)\n",
    "spalte=0\n",
    "zeile=0\n",
    "with open(\"input.txt\") as f:\n",
    "    while True:\n",
    "        spalte += 1\n",
    "        line=f.readline()\n",
    "        if line=='':break\n",
    "        if line.count('move')==0: continue\n",
    "        if len(line)==19:\n",
    "            for i in range(1,int(line[5])+1):\n",
    "#                print(+i-int(line[5])-1)\n",
    "                storageready[int(line[-2])-1].append(storageready[int(line[-7])-1][+i-1-int(line[5])])\n",
    "                storageready[int(line[-7])-1].pop(+i-int(line[5])-1)\n",
    "#                print(storageready)\n",
    "#                print(line[-2]+line[-7]+line[5])\n",
    "        elif len(line)==20: \n",
    "            for i in range(1,int(line[5:7])+1):\n",
    "#                print(+i-int(line[5:7])-1)\n",
    "                storageready[int(line[-2])-1].append(storageready[int(line[-7])-1][+i-1-int(line[5:7])])\n",
    "                storageready[int(line[-7])-1].pop(+i-int(line[5:7])-1)\n",
    "#        if line.count('move')==1: zeile +=1\n",
    "#        if zeile>2: break\n",
    "#        print(line[-2]+line[-7]+line[5:7])\n",
    "#        print(spalte)\n",
    "    print(storageready)\n",
    "    for i in range(0,9):\n",
    "        print(storageready[i][-1],end='')"
   ]
  },
  {
   "cell_type": "code",
   "execution_count": null,
   "id": "8f4da6ad",
   "metadata": {},
   "outputs": [],
   "source": []
  }
 ],
 "metadata": {
  "kernelspec": {
   "display_name": "Python 3 (ipykernel)",
   "language": "python",
   "name": "python3"
  },
  "language_info": {
   "codemirror_mode": {
    "name": "ipython",
    "version": 3
   },
   "file_extension": ".py",
   "mimetype": "text/x-python",
   "name": "python",
   "nbconvert_exporter": "python",
   "pygments_lexer": "ipython3",
   "version": "3.9.13"
  }
 },
 "nbformat": 4,
 "nbformat_minor": 5
}
