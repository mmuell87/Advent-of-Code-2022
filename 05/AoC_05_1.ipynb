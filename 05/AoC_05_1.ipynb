{
 "cells": [
  {
   "cell_type": "code",
   "execution_count": null,
   "id": "80226235",
   "metadata": {},
   "outputs": [],
   "source": []
  },
  {
   "cell_type": "code",
   "execution_count": 178,
   "id": "74717a6e",
   "metadata": {},
   "outputs": [
    {
     "name": "stdout",
     "output_type": "stream",
     "text": [
      "[['G', 'Q'], ['V', 'M'], ['N', 'B'], ['M'], ['J', 'H', 'M', 'T', 'B', 'F', 'S', 'V', 'Z', 'N', 'G', 'D', 'V', 'F', 'V', 'H', 'P', 'D', 'F', 'L', 'H', 'D', 'D', 'S', 'G', 'L', 'J', 'J', 'R', 'L', 'G', 'V', 'J'], ['D', 'N', 'N', 'D'], ['F'], ['T'], ['Q', 'G', 'P', 'F', 'B', 'C', 'M', 'L', 'P', 'D']]\n",
      "QMBMJDFTD"
     ]
    }
   ],
   "source": [
    "debug=0\n",
    "\n",
    "def replace(liste,element,a):\n",
    "    liste.pop(a)\n",
    "    liste.insert(a,element)\n",
    "    return(liste)\n",
    "\n",
    "\n",
    "storage, buffer, storageready=[],[],[]\n",
    "zeile,spalte,i,j=0,0,0,0\n",
    "\n",
    "with open(\"input.txt\") as f:\n",
    "    while True:\n",
    "        line=f.readline()\n",
    "        if line=='\\n': break\n",
    "        if debug==1: print(line)\n",
    "        while True:\n",
    "            buffer.append(line[1])\n",
    "            if debug==1: print(\"Storage: \"+str(buffer))\n",
    "            if line[3]=='\\n': break\n",
    "            line=line[4:]\n",
    "            if debug==1: print(\"Line:    \" +line)\n",
    "            spalte += 1\n",
    "        if not(\"1\" in buffer): storage.append(buffer) #cut numbering of stacks\n",
    "        buffer=[]\n",
    "        zeile += 1\n",
    "#print(storage)\n",
    "\n",
    "for j in range(1,10):\n",
    "    buffer=[]\n",
    "    for i in range(7,-1,-1): buffer.append(storage[i][-j])\n",
    "    while buffer.count(' ')>0: buffer.remove(' ')\n",
    "    storageready.append(buffer)\n",
    "#    print(buffer)\n",
    "#print(storageready)\n",
    "storageready.reverse()\n",
    "#print(storageready)\n",
    "\n",
    "with open(\"input.txt\") as f:\n",
    "    while True:\n",
    "        line=f.readline()\n",
    "        if line=='':break\n",
    "        if line.count('move')==0: continue\n",
    "        if len(line)==19:\n",
    "            for i in range(0,int(line[5])):\n",
    "                storageready[int(line[-2])-1].append(storageready[int(line[-7])-1][-1])\n",
    "                storageready[int(line[-7])-1].pop()\n",
    "#                print(line[-2]+line[-7]+line[5])\n",
    "        else: \n",
    "            for i in range(0,int(line[5:7])):\n",
    "                storageready[int(line[-2])-1].append(storageready[int(line[-7])-1][-1])\n",
    "                storageready[int(line[-7])-1].pop()\n",
    "#        if line.count('move')==1: break\n",
    "#            print(line[-2]+line[-7]+line[5:7])\n",
    "    print(storageready)\n",
    "    for i in range(0,9):\n",
    "        print(storageready[i][-1],end='')"
   ]
  },
  {
   "cell_type": "code",
   "execution_count": null,
   "id": "4b5f13d0",
   "metadata": {},
   "outputs": [],
   "source": []
  },
  {
   "cell_type": "code",
   "execution_count": null,
   "id": "618ad97c",
   "metadata": {},
   "outputs": [],
   "source": []
  },
  {
   "cell_type": "code",
   "execution_count": null,
   "id": "199d298c",
   "metadata": {},
   "outputs": [],
   "source": []
  },
  {
   "cell_type": "code",
   "execution_count": null,
   "id": "55aae0f1",
   "metadata": {},
   "outputs": [],
   "source": []
  }
 ],
 "metadata": {
  "kernelspec": {
   "display_name": "Python 3 (ipykernel)",
   "language": "python",
   "name": "python3"
  },
  "language_info": {
   "codemirror_mode": {
    "name": "ipython",
    "version": 3
   },
   "file_extension": ".py",
   "mimetype": "text/x-python",
   "name": "python",
   "nbconvert_exporter": "python",
   "pygments_lexer": "ipython3",
   "version": "3.9.13"
  }
 },
 "nbformat": 4,
 "nbformat_minor": 5
}
